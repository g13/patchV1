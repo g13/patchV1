{
 "cells": [
  {
   "cell_type": "code",
   "execution_count": 4,
   "id": "508a75d5-d7ed-4aaf-a59e-01d27803f4f0",
   "metadata": {},
   "outputs": [],
   "source": [
    "%load_ext autoreload\n",
    "%autoreload 2\n",
    "#%matplotlib notebook    "
   ]
  },
  {
   "cell_type": "code",
   "execution_count": 5,
   "id": "40499a14-91fe-4d68-95ae-f4fcd027ec5b",
   "metadata": {},
   "outputs": [],
   "source": [
    "import numpy as np"
   ]
  },
  {
   "cell_type": "code",
   "execution_count": 9,
   "id": "bd9379f9-87f5-4e41-8fe4-f2b57b649f35",
   "metadata": {},
   "outputs": [
    {
     "name": "stdout",
     "output_type": "stream",
     "text": [
      "0 9216 128 10.0 1\n",
      "0 20032 128 10.0 1\n",
      "(301989888,)\n",
      "(129269760,)\n"
     ]
    }
   ],
   "source": [
    "# stage2\n",
    "path = 'D:/scratch/patchV1/resource/'\n",
    "wave2 = path + '32_retinal_wave_II.bin'\n",
    "# stage3\n",
    "wave3 = path + '32x3_retinal_wave_III-for_concat.bin'\n",
    "wave = path + '32_32x3_retinal_wave_concat.bin'\n",
    "\n",
    "with open(wave2, 'r') as f:\n",
    "    virtual_LGN2 = np.fromfile(f, 'i4', 1)[0]\n",
    "    nFrame2, npixel2, npixel2 = np.fromfile(f, 'i4', 3)\n",
    "    ecc2 = np.fromfile(f, 'f4', 1)[0]\n",
    "    neye2 = np.fromfile(f, 'u4', 1)[0]\n",
    "    frames2 = np.fromfile(f, 'f4')\n",
    "print(virtual_LGN2, nFrame2, npixel2, ecc2, neye2)\n",
    "\n",
    "with open(wave3, 'r') as f:\n",
    "    virtual_LGN3 = np.fromfile(f, 'i4', 1)[0]\n",
    "    nFrame3, npixel3, npixel3 = np.fromfile(f, 'i4', 3)\n",
    "    ecc3 = np.fromfile(f, 'f4', 1)[0]\n",
    "    neye3 = np.fromfile(f, 'u4', 1)[0]\n",
    "    frames3 = np.fromfile(f, 'f4')\n",
    "print(virtual_LGN3, nFrame3, npixel3, ecc3, neye3)\n",
    "assert(virtual_LGN3 == virtual_LGN2)\n",
    "assert(npixel3 == npixel2)\n",
    "assert(ecc3 == ecc2)\n",
    "assert(neye3 == neye2)\n",
    "print(frames2.shape)\n",
    "print(frames3.shape)"
   ]
  },
  {
   "cell_type": "code",
   "execution_count": 10,
   "id": "0bbc9ba3-cc80-492b-99f8-b1ba04ce6d0a",
   "metadata": {},
   "outputs": [
    {
     "name": "stdout",
     "output_type": "stream",
     "text": [
      "(431259648,)\n"
     ]
    }
   ],
   "source": [
    "frames = np.hstack((frames2, frames3))\n",
    "print(frames.shape)"
   ]
  },
  {
   "cell_type": "code",
   "execution_count": 11,
   "id": "014f00e2-71e4-4043-a345-99ecb2ba7187",
   "metadata": {},
   "outputs": [],
   "source": [
    "with open(wave, 'wb') as f:\n",
    "    np.array([virtual_LGN2]).astype('i4').tofile(f) \n",
    "    np.array([nFrame2+nFrame3, npixel2, npixel2], dtype='i4').tofile(f)\n",
    "    np.array([ecc2]).astype('f4').tofile(f)\n",
    "    np.array([neye2]).astype('u4').tofile(f)\n",
    "    frames.astype('f4').tofile(f)"
   ]
  },
  {
   "cell_type": "code",
   "execution_count": null,
   "id": "ab6819ec-0901-4e9d-b052-2a86d4c2c805",
   "metadata": {},
   "outputs": [],
   "source": []
  },
  {
   "cell_type": "code",
   "execution_count": null,
   "id": "1069aef5-64cf-44d0-95cb-d8182ca2cec0",
   "metadata": {},
   "outputs": [],
   "source": []
  }
 ],
 "metadata": {
  "kernelspec": {
   "display_name": "Python 3 (ipykernel)",
   "language": "python",
   "name": "python3"
  },
  "language_info": {
   "codemirror_mode": {
    "name": "ipython",
    "version": 3
   },
   "file_extension": ".py",
   "mimetype": "text/x-python",
   "name": "python",
   "nbconvert_exporter": "python",
   "pygments_lexer": "ipython3",
   "version": "3.9.7"
  }
 },
 "nbformat": 4,
 "nbformat_minor": 5
}
