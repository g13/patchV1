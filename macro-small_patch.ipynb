{
 "cells": [
  {
   "cell_type": "code",
   "execution_count": 1,
   "metadata": {},
   "outputs": [],
   "source": [
    "%load_ext autoreload\n",
    "%autoreload 2\n",
    "#%matplotlib notebook"
   ]
  },
  {
   "cell_type": "code",
   "execution_count": 2,
   "metadata": {},
   "outputs": [],
   "source": [
    "import pdb\n",
    "import math\n",
    "from scipy import integrate\n",
    "from scipy import special\n",
    "import numpy as np\n",
    "from cmath import *\n",
    "import matplotlib.pyplot as plt\n",
    "from IPython.display import display, Math, Latex\n",
    "np.seterr(all='raise')\n",
    "special.seterr(all='raise')\n",
    "warpSize = 32\n",
    "blockSize = 1024\n",
    "from patch_geo_func import *"
   ]
  },
  {
   "cell_type": "code",
   "execution_count": 3,
   "metadata": {},
   "outputs": [
    {
     "data": {
      "text/plain": [
       "[<matplotlib.lines.Line2D at 0x1edca2fb0d0>]"
      ]
     },
     "execution_count": 3,
     "metadata": {},
     "output_type": "execute_result"
    },
    {
     "data": {
      "image/png": "[encoded data removed]",
      "text/plain": [
       "<Figure size 432x288 with 2 Axes>"
      ]
     },
     "metadata": {
      "needs_background": "light"
     },
     "output_type": "display_data"
    }
   ],
   "source": [
    "den_area = 850 # mm^2 O'Kusky 1982 for the neuronal density we use later\n",
    "# exp. measurement\n",
    "darea = lambda E: 140*(0.78+E)**(-2.2) # Van Essen 1984 Vision Research \"standard\" map, 5232x1024\n",
    "area_slice = lambda E: np.pi*E*darea(E)\n",
    "# model fit\n",
    "a = 0.635\n",
    "b = 96.7\n",
    "k = np.sqrt(140)*0.873145\n",
    "s1 = 0.76\n",
    "s2 = 0.1821\n",
    "model_block = lambda p, e: model_block_ep(e,p,k,a,b,s1,s2)\n",
    "half_stripe_width = 0 # to be read from elastic net simulation result\n",
    "\n",
    "def model_slice(e):\n",
    "    dslice = lambda p: model_block(p, e)\n",
    "    r = integrate.quad(dslice, -np.pi/2, np.pi/2)\n",
    "    return r[0]\n",
    "ecc = np.hstack((np.linspace(0,2.5,50), np.linspace(2.5,90,100)))\n",
    "ecc = ecc[1:]\n",
    "fig = plt.figure('model_compare')\n",
    "ax = fig.add_subplot(111)\n",
    "model_s = np.array([model_slice(e) for e in ecc])\n",
    "exp_s = np.array([area_slice(e) for e in ecc])\n",
    "ax.plot(ecc, exp_s,'r')\n",
    "ax.plot(ecc, model_s,'b')\n",
    "ax2 = ax.twinx()\n",
    "ax2.plot(ecc, np.abs(exp_s - model_s)/exp_s)"
   ]
  },
  {
   "cell_type": "code",
   "execution_count": 4,
   "metadata": {},
   "outputs": [
    {
     "data": {
      "text/latex": [
       "Size of V1 = 1034.655 $mm^2$ (exp.) ~ 1036.158 $mm^2$ (model) (100.145%)"
      ],
      "text/plain": [
       "<IPython.core.display.Latex object>"
      ]
     },
     "metadata": {},
     "output_type": "display_data"
    },
    {
     "data": {
      "text/latex": [
       "A patch of v1 from eccentricity 0 to 0.08 degree yields 2.106  $mm^2$ (exp.) ~ 2.239  $mm^2$ (model) (106.335%)"
      ],
      "text/plain": [
       "<IPython.core.display.Latex object>"
      ]
     },
     "metadata": {},
     "output_type": "display_data"
    },
    {
     "name": "stdout",
     "output_type": "stream",
     "text": [
      "ratio: 0.820\n"
     ]
    }
   ],
   "source": [
    "# total v1 size\n",
    "r = integrate.quad(area_slice,0,90)\n",
    "v1_size_exp = r[0]\n",
    "r = integrate.dblquad(model_block,0,90,-pi/2,pi/2)\n",
    "v1_size_model = r[0]\n",
    "display(Latex(rf'Size of V1 = {v1_size_exp:.3f} $mm^2$ (exp.) ~ {v1_size_model:.3f} $mm^2$ (model) ({v1_size_model*100/v1_size_exp:.3f}%)'))\n",
    "ecc = 0.08 ########################################### <- set here 0.08 checked\n",
    "r = integrate.quad(area_slice,0,ecc)\n",
    "area_exp = r[0]\n",
    "r = integrate.dblquad(model_block,0,ecc,-np.pi/2,np.pi/2)\n",
    "area_model = r[0]\n",
    "display(Latex(rf'A patch of v1 from eccentricity {0} to {ecc} degree yields {area_exp:.3f}  $mm^2$ (exp.) ~ {area_model:.3f}  $mm^2$ (model) ({area_model*100/area_exp:.3f}%)'))\n",
    "model_ratio = den_area/v1_size_model\n",
    "print(f'ratio: {model_ratio:.3f}')"
   ]
  },
  {
   "cell_type": "code",
   "execution_count": 5,
   "metadata": {},
   "outputs": [
    {
     "name": "stdout",
     "output_type": "stream",
     "text": [
      "OKusky 1982; Kelly & Hawken 2017; M.Schmidt 2018, assuming constant density near the fovea\n",
      "##### L4 #####\n"
     ]
    },
    {
     "data": {
      "text/latex": [
       "Rescale density 30000 per $mm^2$ in O\\'Kusky 1982 to 24610.152 per $mm^2$ to keep constant number of neurons"
      ],
      "text/plain": [
       "<IPython.core.display.Latex object>"
      ]
     },
     "metadata": {},
     "output_type": "display_data"
    },
    {
     "name": "stdout",
     "output_type": "stream",
     "text": [
      "Rounding number of neurons in L4Cbeta from 55108.063 to 55296 = 54 x 1024\n"
     ]
    },
    {
     "data": {
      "text/latex": [
       "area per block = 0.041 $mm^2$"
      ],
      "text/plain": [
       "<IPython.core.display.Latex object>"
      ]
     },
     "metadata": {},
     "output_type": "display_data"
    },
    {
     "data": {
      "text/latex": [
       "model density = 24694.081 per $mm^2$\\n"
      ],
      "text/plain": [
       "<IPython.core.display.Latex object>"
      ]
     },
     "metadata": {},
     "output_type": "display_data"
    },
    {
     "name": "stdout",
     "output_type": "stream",
     "text": [
      "##### L2/3 #####\n"
     ]
    },
    {
     "data": {
      "text/latex": [
       "Rescale density 18000 per $mm^2$ in O\\'Kusky 1982 to 14766.091 per $mm^2$ to keep constant number of neurons"
      ],
      "text/plain": [
       "<IPython.core.display.Latex object>"
      ]
     },
     "metadata": {},
     "output_type": "display_data"
    },
    {
     "name": "stdout",
     "output_type": "stream",
     "text": [
      "Rounding number of neurons in L2/3 from 33064.838 to 33792 = 33 x 1024\n"
     ]
    },
    {
     "data": {
      "text/latex": [
       "area per block = 0.068 $mm^2$"
      ],
      "text/plain": [
       "<IPython.core.display.Latex object>"
      ]
     },
     "metadata": {},
     "output_type": "display_data"
    },
    {
     "data": {
      "text/latex": [
       "model density = 15090.827 per $mm^2$"
      ],
      "text/plain": [
       "<IPython.core.display.Latex object>"
      ]
     },
     "metadata": {},
     "output_type": "display_data"
    }
   ],
   "source": [
    "print('O''Kusky 1982; Kelly & Hawken 2017; M.Schmidt 2018, assuming constant density near the fovea')\n",
    "print('##### L4 #####')\n",
    "surface_den_L4Cbeta = 30000*model_ratio # per mm^2\n",
    "display(Latex(rf'Rescale density 30000 per $mm^2$ in O\\'Kusky 1982 to {surface_den_L4Cbeta:.3f} per $mm^2$ to keep constant number of neurons'))\n",
    "assert(30000*den_area == surface_den_L4Cbeta*v1_size_model)\n",
    "_n_L4Cbeta = area_model*surface_den_L4Cbeta # 32^4 * 10 ~ 10.4 million\n",
    "n_L4Cbeta = int((_n_L4Cbeta+blockSize-1)//blockSize*blockSize)\n",
    "nblock_L4Cbeta = n_L4Cbeta//blockSize\n",
    "block_area_L4Cbeta = area_model/nblock_L4Cbeta\n",
    "L4_area = area_model\n",
    "print(f'Rounding number of neurons in L4Cbeta from {_n_L4Cbeta:.3f} to {n_L4Cbeta} = {nblock_L4Cbeta} x {blockSize}')\n",
    "display(Latex(rf'area per block = {block_area_L4Cbeta:.3f} $mm^2$'))\n",
    "display(Latex(rf'model density = {n_L4Cbeta/L4_area:.3f} per $mm^2$\\n'))\n",
    "print('##### L2/3 #####')\n",
    "surface_den_L23 = (18.7+17.2+20.2)*1000*model_ratio # per mm^2\n",
    "display(Latex(rf'Rescale density (18.7+17.2+20.2)*1000 per $mm^2$ in O\\'Kusky 1982 to {surface_den_L23:.3f} per $mm^2$ to keep constant number of neurons'))\n",
    "_n_L23 = area_model*surface_den_L23\n",
    "n_L23 = int((_n_L23+blockSize-1)//blockSize*blockSize)\n",
    "nblock_L23 = n_L23//blockSize\n",
    "block_area_L23 = area_model/nblock_L23\n",
    "L23_area = area_model\n",
    "print(f'Rounding number of neurons in L2/3 from {_n_L23:.3f} to {n_L23} = {nblock_L23} x {blockSize}')\n",
    "display(Latex(f'area per block = {block_area_L23:.3f} $mm^2$'))\n",
    "display(Latex(f'model density = {n_L23/L23_area:.3f} per $mm^2$'))"
   ]
  },
  {
   "cell_type": "code",
   "execution_count": null,
   "metadata": {},
   "outputs": [],
   "source": [
    "blockSize = 1024\n",
    "fig, pos, xlim, ylim = plot_patch(a,b,k,ecc,half_stripe_width,nblock_L4Cbeta,ax=None,skip=602,s1=0.76,s2=0.1821,ret_fig=True,blockSize=blockSize)\n",
    "#fig, pos = plot_patch(a,b,k,ecc,L4_area/32,32,ax=None,skip=602,s1=0.76,s2=0.1821,ret_fig=True,blockSize=1024)"
   ]
  },
  {
   "cell_type": "code",
   "execution_count": null,
   "metadata": {},
   "outputs": [],
   "source": [
    "fig.savefig('fD_sp008.png', dpi = 600)\n",
    "\n",
    "dim = 2\n",
    "pos_filename = 'fD_sp008_2D.bin'\n",
    "position_discrimination_digits = 1\n",
    "with open(pos_filename, 'wb') as f:\n",
    "    np.array([nblock_L4Cbeta, blockSize, dim]).astype('u4').tofile(f)        \n",
    "    pos[:,:2,:].tofile(f) #f8\n",
    "    \n",
    "dim = 3\n",
    "pos_filename = 'fD_sp008_3D.bin'\n",
    "position_discrimination_digits = 1\n",
    "with open(pos_filename, 'wb') as f:\n",
    "    np.array([nblock_L4Cbeta, blockSize, dim]).astype('u4').tofile(f)        \n",
    "    pos.tofile(f) #f8"
   ]
  },
  {
   "cell_type": "code",
   "execution_count": null,
   "metadata": {},
   "outputs": [],
   "source": [
    "nblock = 32\n",
    "blockSize = 1024\n",
    "fig, pos, xlim, ylim = plot_patch(a,b,k,ecc,half_stripe_width,nblock,ax=None,skip=32,s1=0.76,s2=0.1821,ret_fig=True,blockSize=blockSize)"
   ]
  },
  {
   "cell_type": "code",
   "execution_count": null,
   "metadata": {},
   "outputs": [],
   "source": [
    "fig.savefig('sobol_test_low_density.png', dpi = 600)\n",
    "dim = 2\n",
    "pos_filename = 'V1_pos_2D_lowDensity.bin'\n",
    "with open(pos_filename, 'wb') as f:\n",
    "    np.array([nblock, blockSize, dim]).astype('u4').tofile(f)        \n",
    "    pos[:,:2,:].tofile(f) #f8\n",
    "    \n",
    "dim = 3\n",
    "pos_filename = 'V1_pos_3D_lowDensity.bin'\n",
    "with open(pos_filename, 'wb') as f:\n",
    "    np.array([nblock, blockSize, dim]).astype('u4').tofile(f)\n",
    "    pos.tofile(f)"
   ]
  },
  {
   "cell_type": "code",
   "execution_count": null,
   "metadata": {},
   "outputs": [],
   "source": [
    "for i in range(pos.shape[0]):\n",
    "    for j in range(pos.shape[2]):\n",
    "        assert(np.sum((pos[i,:3,j].reshape(3,1) - pos[i,:3,:]==0).all(0)) == 1)"
   ]
  },
  {
   "cell_type": "code",
   "execution_count": null,
   "metadata": {},
   "outputs": [],
   "source": [
    "%debug"
   ]
  },
  {
   "cell_type": "raw",
   "metadata": {},
   "source": [
    "## Adams et al 2003 JNS\n",
    "# Shell-liked shape for the tip of the V1 tissue covering eccentricity from 0.0 to 1.8 deg with fovea at the hinge of the shell."
   ]
  },
  {
   "cell_type": "markdown",
   "metadata": {},
   "source": [
    "characteristic length ="
   ]
  },
  {
   "cell_type": "code",
   "execution_count": null,
   "metadata": {},
   "outputs": [],
   "source": [
    "cl = np.sqrt(block_area_L4Cbeta) * 1000\n",
    "display(Latex(f'{cl:.3f} $\\mu m$'))"
   ]
  },
  {
   "cell_type": "code",
   "execution_count": null,
   "metadata": {},
   "outputs": [],
   "source": [
    "md = np.power(cl*cl*100/1024,1/3)\n",
    "display(Latex(f'~204x204x100 $\\mu m^3$ (1024 neurons) per block, average inter-neuron(soma)-distance = {md:.3f} $\\mu m$'))"
   ]
  },
  {
   "cell_type": "markdown",
   "metadata": {},
   "source": [
    "conduction velocity ~ 1m/s, being unmylineated horizontal connections  \n",
    "(0.3m/s for L2/3 and upper L4) <i>Girard et al J Neurophysiol 2001</i>  \n",
    "minmum delay = 0.016 ms, no spike-correction is needed for time step (dt) < minimum delay\n",
    "100Hz instantaneous firing rate, 1000 connections leads to ~ 1 spike every 0.01ms. "
   ]
  },
  {
   "cell_type": "code",
   "execution_count": null,
   "metadata": {},
   "outputs": [],
   "source": [
    "dt = 1 #ms\n",
    "nob = 1000/cl\n",
    "print(nob)"
   ]
  },
  {
   "cell_type": "markdown",
   "metadata": {},
   "source": [
    "dt = 1ms means neurons in the nearest 5~6 blocks needs to be considered for spike correction  \n",
    "dt = 0.125ms (1/8) suffice for spike correction within block, #ASSUMPTION# nearfield spike correction only (neurons at block boundarys are neglected) spikes send to the other blocks are resolved after the current step."
   ]
  },
  {
   "cell_type": "markdown",
   "metadata": {},
   "source": [
    "#dt = 0.125ms is thus limited by the number of threads per block in NVIDIA GPU  \n",
    "To further increase dt, will need a cross block spike-correction with CPU, or wait for an update from NVIDIA, otherwise results in an extra increase in spike-correction error, maybe tolerable."
   ]
  },
  {
   "cell_type": "code",
   "execution_count": null,
   "metadata": {},
   "outputs": [],
   "source": [
    "time = 500\n",
    "dt = 0.0625\n",
    "batch_time_per_dt = 500e-6 #sec\n",
    "nstep = time//dt\n",
    "blocks = 10240\n",
    "resident_blocks = 8\n",
    "time_cost = np.int(blocks/resident_blocks) * batch_time_per_dt * nstep\n",
    "print('simulate for', time ,'ms with dt =', dt, 'ms cost', time_cost/3600,'h')"
   ]
  },
  {
   "cell_type": "code",
   "execution_count": null,
   "metadata": {},
   "outputs": [],
   "source": [
    "pos = np.fromfile('server_data/test_3d_pos.bin')"
   ]
  },
  {
   "cell_type": "code",
   "execution_count": null,
   "metadata": {},
   "outputs": [],
   "source": [
    "pos = np.reshape(pos,(3,nblock_L4Cbeta,blockSize))"
   ]
  },
  {
   "cell_type": "code",
   "execution_count": null,
   "metadata": {},
   "outputs": [],
   "source": [
    "from scipy import integrate\n",
    "# Maplpeli et al 1996\n",
    "parvo_den_alt = lambda E: 1011688*(E+2.9144)**(-2.6798) # cells/deg^2\n",
    "# offset (transition between crossed and uncrossed LGN Chalupa and Lia 1991, Lavidor and Walsh 2004)\n",
    "#offset = 0.5/\n",
    "#parvo_slice = lambda E: (np.pi+offset)*E*parvo_den_alt(E)\n",
    "parvo_slice = lambda E: np.pi*E*parvo_den_alt(E)\n",
    "ecc_Connelly = 2.5\n",
    "r = integrate.quad(parvo_slice, 0, ecc_Connelly)\n",
    "nparvo_connelly = round(r[0])\n",
    "print(f'{nparvo_connelly} parvo cells inside {ecc_Connelly} in total > 110,000 connelly and van essen 1984')\n",
    "magno_den_alt = lambda E: 2620.2*((E-1.8322)**2+5.5638)**(-0.8012) # cells/deg^2\n",
    "# in the cortex sheet\n",
    "# R dendritic spread of L4 neuron\n",
    "# r dendritic spread of LGN neuron\n",
    "R_beta = 0.05 # mm Lund 1973\n",
    "R_alpha = 0.1 # mm\n",
    "r_parvo = 0.1 # mm Blasdel and lund 1983\n",
    "r_magno = 0.25 # mm\n",
    "\n",
    "def M_V1(e):\n",
    "    dslice = lambda p: model_block(p, e)\n",
    "    meanM = integrate.quad(dslice, -np.pi/2, np.pi/2)\n",
    "    return meanM[0]/np.pi\n",
    "\n",
    "# lgn per cortex cell = den_alt(ecc) * (R+r)^2 * darea(ecc)\n",
    "#parvo_beta = lambda e: parvo_den_alt(e) * np.power((R_beta + r_parvo),2) * M_V1(e)\n",
    "spread = np.power((R_beta + r_parvo),2)\n",
    "parvo_beta = lambda e: parvo_den_alt(e) * spread / M_V1(e)\n",
    "#parvo_beta = lambda e: 24610 * M_V1(e) / parvo_den_alt(e)\n",
    "\n",
    "x_ecc = x_ep(ecc,0,k,a,b) + r_parvo\n",
    "ecc0 = e_x(x_ecc,k,a,b)\n",
    "print(f'V1 occupies {ecc} eccentricity, parvo LGN occupies {ecc0} eccentricity')\n",
    "#ratio_L56 = 0.7 #L5,6 only is not correct, use 1.0, sked Bob\n",
    "ratio_CI = 0.66 # C:I ~ 4:1 (Connolly and Van Essen 1984) within 2.5 degree\n",
    "r = integrate.quad(parvo_slice, 0, ecc0)\n",
    "nparvo0_beta = round(r[0])\n",
    "ecc = np.linspace(0,ecc0,101)\n",
    "ecc = ecc[1:]\n",
    "fig = plt.figure('parvo per 4Cbeta',  dpi = 600)\n",
    "ax = fig.add_subplot(121)\n",
    "ax.set_title(f'parvo per 4Cbeta, spread = {spread:.4f}')\n",
    "ax.plot(ecc, [parvo_beta(e)*ratio_CI for e in ecc], ':b')\n",
    "ax.plot(ecc, [parvo_beta(e)*(1-ratio_CI) for e in ecc], ':r')\n",
    "#ax.set_yscale('log')\n",
    "ax2 = ax.twinx()\n",
    "#ax2.plot(ecc, [M_V1(e) for e in ecc], 'r')\n",
    "ax2.plot(ecc, [parvo_den_alt(e)*ratio_CI/1000 for e in ecc], ':g')\n",
    "ax2.plot(ecc, [parvo_den_alt(e)*(1-ratio_CI)/1000 for e in ecc], ':m')\n",
    "ax2.plot(ecc, [M_V1(e) for e in ecc], 'k')\n",
    "\n",
    "def parvo_nLGN_beta(ecc, ratio, ecc0):\n",
    "    # dE determined in a iteratively forward way.\n",
    "    count = 1\n",
    "    if ecc > 0:\n",
    "        decc = 0\n",
    "        new_ecc = ecc\n",
    "        delta = 1\n",
    "        tol = 1e-6\n",
    "        while delta>tol and count < 100:\n",
    "            new_decc = 1/np.sqrt(parvo_den_alt(new_ecc)*ratio)\n",
    "            new_ecc = ecc + new_decc/2\n",
    "            delta = abs(decc - new_decc)\n",
    "            decc = new_decc\n",
    "            if ecc + decc > ecc0:\n",
    "                #decc = ecc0 - ecc\n",
    "                break\n",
    "            count = count + 1\n",
    "        assert(count < 50)\n",
    "    else:\n",
    "        decc = np.sqrt(2/(np.pi*parvo_den_alt(0)*ratio))\n",
    "    r = integrate.quad(parvo_slice, ecc, ecc+decc)\n",
    "    #print(decc, r[0], r[0]*ratio)\n",
    "    return np.round(r[0]*ratio).astype(int), ecc + decc\n",
    "\n",
    "def spread_VF(ecc0, ratio, n0):\n",
    "    current_ecc = 0\n",
    "    sliced_N = np.array([], dtype = int)\n",
    "    sliced_ecc = np.array([])\n",
    "    N = 0\n",
    "    decc = np.array([])\n",
    "    while current_ecc < ecc0:\n",
    "        old_ecc = current_ecc\n",
    "        sN, current_ecc = parvo_nLGN_beta(current_ecc, ratio, ecc0)\n",
    "        sliced_ecc = np.append(sliced_ecc, (old_ecc + current_ecc)/2)\n",
    "        decc = np.append(decc, current_ecc - old_ecc)\n",
    "        N = N + sN\n",
    "        sliced_N = np.append(sliced_N, sN)\n",
    "    return N, sliced_N, sliced_ecc, decc, current_ecc\n",
    "\n",
    "nparvo_I5, Isliced_N, Isliced_ecc, Idecc, Icurrent_ecc = spread_VF(ecc0, (1-ratio_CI), nparvo0_beta)\n",
    "nparvo_C6, Csliced_N, Csliced_ecc, Cdecc, Ccurrent_ecc = spread_VF(ecc0, ratio_CI, nparvo0_beta)\n",
    "print(f'Cecc = {Ccurrent_ecc}, Iecc = {Icurrent_ecc}')\n",
    "ecc0 = max(Icurrent_ecc, Ccurrent_ecc)\n",
    "\n",
    "ax = fig.add_subplot(122)\n",
    "ax2 = ax.twinx()\n",
    "ax.plot(Isliced_ecc, Isliced_N, ':r')\n",
    "ax.plot(Csliced_ecc, Csliced_N, ':b')\n",
    "ax2.plot(Isliced_ecc, Idecc*60, ':m')\n",
    "ax2.plot(Csliced_ecc, Cdecc*60, ':g')\n",
    "\n",
    "ax2.set_ylabel('VF radius in min')\n",
    "nparvo_beta = nparvo_I5 + nparvo_C6\n",
    "print(f'reached {Icurrent_ecc}, {Ccurrent_ecc} with {nparvo_beta} ~ {round(nparvo0_beta)} at {ecc0}')"
   ]
  },
  {
   "cell_type": "code",
   "execution_count": null,
   "metadata": {},
   "outputs": [],
   "source": [
    "def assign_pos_slice(n, ecc):\n",
    "    equi_theta = np.linspace(-np.pi/2, np.pi/2, n+1)\n",
    "    theta = (equi_theta[1:] + equi_theta[:-1])/2\n",
    "    cartPos = np.zeros((2,n))\n",
    "    polarPos = np.zeros((2,n))\n",
    "    polarPos[0,:] = theta\n",
    "    polarPos[1,:] = ecc\n",
    "    cartPos[0,:] = np.cos(theta)*ecc\n",
    "    cartPos[1,:] = np.sin(theta)*ecc\n",
    "    return polarPos, cartPos\n",
    "\n",
    "def assign_pos(sliced_N, sliced_ecc, n):\n",
    "    polarPos = np.zeros((2,n))\n",
    "    cartPos = np.zeros((2,n))\n",
    "    nslice = sliced_N.size\n",
    "    current_n = 0\n",
    "    for i in range(nslice):\n",
    "        polarPos[:,current_n:current_n + sliced_N[i]], cartPos[:,current_n:current_n + sliced_N[i]] = assign_pos_slice(sliced_N[i], sliced_ecc[i])\n",
    "        current_n = current_n + sliced_N[i]\n",
    "    return polarPos, cartPos\n",
    "\n",
    "def spread_ecc(n, ecc):\n",
    "    ecc0 = np.hstack((0,ecc))\n",
    "    old_area = np.pi*(ecc0[1:]*ecc0[1:] - ecc0[:-1]*ecc0[:-1])\n",
    "    density = n/old_area\n",
    "    mean_density = np.mean(density)\n",
    "    new_area = n/mean_density\n",
    "    area0 = np.sum(old_area)\n",
    "    tol = 1e-10\n",
    "    darea = np.sum(new_area) - area0\n",
    "    old_density = mean_density\n",
    "    count = 0\n",
    "    print(f'start out with {darea}, {mean_density}')\n",
    "    while np.abs(darea) > 1e-10:\n",
    "        if darea > 0:\n",
    "            new_density = old_density * (1 - 0.5*darea/area0)\n",
    "        else:\n",
    "            new_density = old_density * (1 + 0.5*darea/area0)\n",
    "        old_density = new_density\n",
    "        new_area = n/new_density\n",
    "        darea = np.sum(new_area) - area0\n",
    "        count = count + 1\n",
    "        if count > 100:\n",
    "            print(f'100 loops out with {new_density}, {darea}')\n",
    "        \n",
    "    uniform_ecc = np.zeros(n.size, dtype = float)\n",
    "    uniform_ecc[0] = np.sqrt(new_area[0]/np.pi)\n",
    "    for i in range(n.size-1):\n",
    "        uniform_ecc[i+1] = np.sqrt(new_area[i+1]/np.pi + uniform_ecc[i]*uniform_ecc[i])\n",
    "    print(f'new ecc {uniform_ecc[-1]}, old ecc {ecc[-1]}, after {count} adjustments')\n",
    "    return uniform_ecc\n",
    "\n",
    "def assign_pos_uniform(sliced_N, sliced_ecc, n):\n",
    "    sliced_ecc_uniform = spread_ecc(sliced_N, sliced_ecc)\n",
    "    #print(sliced_ecc_uniform)\n",
    "    #_sliced_ecc_uniform = np.linspace(sliced_ecc[0], sliced_ecc[-1], sliced_ecc.size)\n",
    "    #print(_sliced_ecc_uniform)\n",
    "    cartPos = np.zeros((2,n))\n",
    "    nslice = sliced_N.size\n",
    "    current_n = 0\n",
    "    for i in range(nslice):\n",
    "        _, cartPos[:,current_n:current_n + sliced_N[i]] = assign_pos_slice(sliced_N[i], sliced_ecc_uniform[i])\n",
    "        current_n = current_n + sliced_N[i]\n",
    "        \n",
    "    assert(np.max(np.sqrt(cartPos[0,:]*cartPos[0,:] + cartPos[1,:]*cartPos[1,:])) <= sliced_ecc[-1])\n",
    "    return cartPos"
   ]
  },
  {
   "cell_type": "code",
   "execution_count": null,
   "metadata": {},
   "outputs": [],
   "source": [
    "# Excluding S_on, S_off from LGN Koniocellular layers to L1, L2/3 for now\n",
    "# C-On:Off ~ 3:1; I-On:Off ~ 2:1 (Wiesel and Hubel 1966, Schiller-and-Malpeli-1978, Derrington and Lennie 1984, Martin-and-Lee 2014), cone-to-ganglion ~ 1:1 (McMahon et al., 2000)\n",
    "# Red:Green, 1.0 central (Bowmaker 2003, cite-only.bib) 1.6 overall(Deeb et al., 2000, cite-only.bib)\n",
    "rL_on = 0\n",
    "rL_off = 1\n",
    "rM_on = 2\n",
    "rM_off = 3\n",
    "np.random.seed(74381023)\n",
    "#                       L                         M\n",
    "#C_sequence = np.array([rL_on,rL_on,rL_off,rL_on, rM_on,rM_on,rM_off,rM_on])\n",
    "#I_sequence = np.array([rL_on,rL_on,rL_off,       rM_on,rM_on,rM_off])\n",
    "C_sequence = np.array([rL_on,rL_on,rM_off,rL_on,rM_on,rM_on,rL_off,rM_on])\n",
    "I_sequence = np.array([rL_on,rM_off,rL_on,rM_on,rL_off,rM_on])\n",
    "\n",
    "parvo_pos_I5, parvo_pos_I5_cart= assign_pos(Isliced_N, Isliced_ecc, nparvo_I5)\n",
    "parvo_pos_C6, parvo_pos_C6_cart= assign_pos(Csliced_N, Csliced_ecc, nparvo_C6)\n",
    "\n",
    "parvo_pos_I5_uniform= assign_pos_uniform(Isliced_N, Isliced_ecc, nparvo_I5)\n",
    "parvo_pos_C6_uniform= assign_pos_uniform(Csliced_N, Csliced_ecc, nparvo_C6)\n",
    "\n",
    "def shuffle_fill(seq, arr):\n",
    "    seqSize = seq.size\n",
    "    n = arr.size\n",
    "    for i in range(n//seqSize+1):\n",
    "        current_i = i*seqSize\n",
    "        next_i = current_i + seqSize\n",
    "        if next_i > n:\n",
    "            arr[current_i:n] = np.random.permutation(seq)[:n-current_i]\n",
    "        else:\n",
    "            arr[current_i:next_i] = np.random.permutation(seq)\n",
    "\n",
    "RG_OnOff_I5 = np.zeros(nparvo_I5)\n",
    "shuffle_fill(C_sequence, RG_OnOff_I5)\n",
    "\n",
    "RG_OnOff_C6 = np.zeros(nparvo_C6)\n",
    "shuffle_fill(I_sequence, RG_OnOff_C6)"
   ]
  },
  {
   "cell_type": "code",
   "execution_count": null,
   "metadata": {},
   "outputs": [],
   "source": [
    "# reorder by coneType\n",
    "def reorder(arr, ref, n):\n",
    "    new_arr = np.zeros(arr.shape)\n",
    "    offset = 0\n",
    "    for i in range(n):\n",
    "        pick = ref == i\n",
    "        npick = np.sum(pick)\n",
    "        new_arr[:,offset:(offset+npick)] = arr[:,pick].copy()\n",
    "        offset += npick\n",
    "    assert(offset == arr.shape[1])\n",
    "    return new_arr\n",
    "\n",
    "def ref_reorder(ref, n):\n",
    "    new_ref = np.zeros(ref.shape)\n",
    "    offset = 0\n",
    "    for i in range(n):\n",
    "        pick = ref == i\n",
    "        npick = np.sum(pick)\n",
    "        new_ref[offset:(offset+npick)] = ref[pick].copy()\n",
    "        offset += npick\n",
    "    assert(offset == ref.size)\n",
    "    return new_ref\n",
    "\n",
    "parvo_pos_I5 = reorder(parvo_pos_I5, RG_OnOff_I5, 4)\n",
    "parvo_pos_I5_cart = reorder(parvo_pos_I5_cart, RG_OnOff_I5, 4)\n",
    "parvo_pos_I5_uniform = reorder(parvo_pos_I5_uniform, RG_OnOff_I5, 4)\n",
    "RG_OnOff_I5 = ref_reorder(RG_OnOff_I5, 4)\n",
    "parvo_pos_C6 = reorder(parvo_pos_C6, RG_OnOff_C6, 4)\n",
    "parvo_pos_C6_cart = reorder(parvo_pos_C6_cart, RG_OnOff_C6, 4)\n",
    "parvo_pos_C6_uniform = reorder(parvo_pos_C6_uniform, RG_OnOff_C6, 4)\n",
    "RG_OnOff_C6 = ref_reorder(RG_OnOff_C6, 4)\n",
    "ntypeC6 = np.zeros(4, dtype = int)\n",
    "ntypeI5 = np.zeros(4, dtype = int)\n",
    "offset5 = 0\n",
    "offset6 = 0\n",
    "for i in range(4):\n",
    "    ntypeI5[i] = np.sum(RG_OnOff_I5==i)\n",
    "    assert((RG_OnOff_I5[offset5:(offset5+ntypeI5[i])]-i == 0).all())\n",
    "    offset5 = offset5 + ntypeI5[i]\n",
    "    ntypeC6[i] = np.sum(RG_OnOff_C6==i)\n",
    "    assert((RG_OnOff_C6[offset6:(offset6+ntypeC6[i])]-i == 0).all())\n",
    "    offset6 = offset6 + ntypeC6[i] \n",
    "\n",
    "fig = plt.figure('LGN_pos', dpi = 300)\n",
    "ax = fig.add_subplot(121)\n",
    "offset = 0\n",
    "ax.plot(parvo_pos_C6_cart[0,offset:ntypeC6[0]], parvo_pos_C6_cart[1,offset:ntypeC6[0]], ',r', ms = 0.01)\n",
    "offset = offset + ntypeC6[0]\n",
    "ax.plot(parvo_pos_C6_cart[0,offset:(offset+ntypeC6[1])], parvo_pos_C6_cart[1,offset:(offset+ntypeC6[1])], ',m', ms = 0.01)\n",
    "offset = offset + ntypeC6[1]\n",
    "ax.plot(parvo_pos_C6_cart[0,offset:(offset+ntypeC6[2])], parvo_pos_C6_cart[1,offset:(offset+ntypeC6[2])], ',g', ms = 0.01)\n",
    "offset = offset + ntypeC6[2]\n",
    "ax.plot(parvo_pos_C6_cart[0,offset:(offset+ntypeC6[3])], parvo_pos_C6_cart[1,offset:(offset+ntypeC6[3])], ',y', ms = 0.01)\n",
    "ax.set_aspect('equal')\n",
    "ax2 = fig.add_subplot(122)\n",
    "ax2.plot(parvo_pos_C6_cart[0,RG_OnOff_C6 == 0], parvo_pos_C6_cart[1,RG_OnOff_C6 == 0], ',r', ms = 0.01)\n",
    "ax2.plot(parvo_pos_C6_cart[0,RG_OnOff_C6 == 1], parvo_pos_C6_cart[1,RG_OnOff_C6 == 1], ',m', ms = 0.01)\n",
    "ax2.plot(parvo_pos_C6_cart[0,RG_OnOff_C6 == 2], parvo_pos_C6_cart[1,RG_OnOff_C6 == 2], ',g', ms = 0.01)\n",
    "ax2.plot(parvo_pos_C6_cart[0,RG_OnOff_C6 == 3], parvo_pos_C6_cart[1,RG_OnOff_C6 == 3], ',y', ms = 0.01)\n",
    "#ax2.plot(parvo_pos_C6_uniform[0,RG_OnOff_C6 == 0], parvo_pos_C6_uniform[1,RG_OnOff_C6 == 0], ',r', ms = 0.01)\n",
    "#ax2.plot(parvo_pos_C6_uniform[0,RG_OnOff_C6 == 1], parvo_pos_C6_uniform[1,RG_OnOff_C6 == 1], ',m', ms = 0.01)\n",
    "#ax2.plot(parvo_pos_C6_uniform[0,RG_OnOff_C6 == 2], parvo_pos_C6_uniform[1,RG_OnOff_C6 == 2], ',g', ms = 0.01)\n",
    "#ax2.plot(parvo_pos_C6_uniform[0,RG_OnOff_C6 == 3], parvo_pos_C6_uniform[1,RG_OnOff_C6 == 3], ',y', ms = 0.01)\n",
    "#ax2.plot(parvo_pos_I5_cart[0,RG_OnOff_I5 == 0], parvo_pos_I5_cart[1,RG_OnOff_I5 == 0], ',r')\n",
    "#ax2.plot(parvo_pos_I5_cart[0,RG_OnOff_I5 == 1], parvo_pos_I5_cart[1,RG_OnOff_I5 == 1], ',m')\n",
    "#ax2.plot(parvo_pos_I5_cart[0,RG_OnOff_I5 == 2], parvo_pos_I5_cart[1,RG_OnOff_I5 == 2], ',g')\n",
    "#ax2.plot(parvo_pos_I5_cart[0,RG_OnOff_I5 == 3], parvo_pos_I5_cart[1,RG_OnOff_I5 == 3], ',y')\n",
    "ax2.set_aspect('equal')"
   ]
  },
  {
   "cell_type": "code",
   "execution_count": null,
   "metadata": {},
   "outputs": [],
   "source": [
    "ecc = np.log(np.linspace(1,np.exp(3.0),10))\n",
    "k = 0.2049795945022049 \n",
    "log_cpd0 = 3.6741080244555278\n",
    "cpd = np.exp(-k*ecc + log_cpd0)\n",
    "fig = plt.figure()\n",
    "ax = fig.add_subplot(111)\n",
    "ax.plot(ecc, cpd)"
   ]
  },
  {
   "cell_type": "code",
   "execution_count": null,
   "metadata": {},
   "outputs": [],
   "source": [
    "def acuity(ecc):\n",
    "    k = 0.2049795945022049 \n",
    "    log_cpd0 = 3.6741080244555278\n",
    "    cpd = np.exp(-k*ecc + log_cpd0)\n",
    "    return 1/cpd/4\n",
    "\n",
    "def polar2cart(r, n = 20):\n",
    "    theta = np.linspace(0, 2*np.pi, n)\n",
    "    return r*np.cos(theta), r*np.sin(theta)\n",
    "sampleSize = 10\n",
    "iSample = np.random.randint(nparvo_C6, size = sampleSize)\n",
    "rSample = acuity(parvo_pos_C6[1, iSample])\n",
    "\n",
    "fig = plt.figure('LGN_pos', dpi = 300)\n",
    "ax = fig.add_subplot(121)\n",
    "ax.plot(parvo_pos_C6_cart[0,RG_OnOff_C6 == 0], parvo_pos_C6_cart[1,RG_OnOff_C6 == 0], ',r', ms = 0.01)\n",
    "ax.plot(parvo_pos_C6_cart[0,RG_OnOff_C6 == 1], parvo_pos_C6_cart[1,RG_OnOff_C6 == 1], ',m', ms = 0.01)\n",
    "ax.plot(parvo_pos_C6_cart[0,RG_OnOff_C6 == 2], parvo_pos_C6_cart[1,RG_OnOff_C6 == 2], ',g', ms = 0.01)\n",
    "ax.plot(parvo_pos_C6_cart[0,RG_OnOff_C6 == 3], parvo_pos_C6_cart[1,RG_OnOff_C6 == 3], ',y', ms = 0.01)\n",
    "for i in range(sampleSize):\n",
    "    x, y = polar2cart(rSample[i])\n",
    "    ax.plot(parvo_pos_C6_cart[0,iSample[i]] + x, parvo_pos_C6_cart[1,iSample[i]] + y, '-k', lw = 0.01)\n",
    "    \n",
    "ax.set_aspect('equal')\n",
    "ax2 = fig.add_subplot(122)\n",
    "ax2.plot(parvo_pos_C6_uniform[0,RG_OnOff_C6 == 0], parvo_pos_C6_uniform[1,RG_OnOff_C6 == 0], ',r', ms = 0.01)\n",
    "ax2.plot(parvo_pos_C6_uniform[0,RG_OnOff_C6 == 1], parvo_pos_C6_uniform[1,RG_OnOff_C6 == 1], ',m', ms = 0.01)\n",
    "ax2.plot(parvo_pos_C6_uniform[0,RG_OnOff_C6 == 2], parvo_pos_C6_uniform[1,RG_OnOff_C6 == 2], ',g', ms = 0.01)\n",
    "ax2.plot(parvo_pos_C6_uniform[0,RG_OnOff_C6 == 3], parvo_pos_C6_uniform[1,RG_OnOff_C6 == 3], ',y', ms = 0.01)\n",
    "ax2.set_aspect('equal')"
   ]
  },
  {
   "cell_type": "code",
   "execution_count": null,
   "metadata": {},
   "outputs": [],
   "source": [
    "prec = 'float32'\n",
    "#for assign_attr.py\n",
    "theme = 'micro2'\n",
    "parvo_pos_I5_file = 'parvo_pos_I5-'+theme+'.bin'\n",
    "with open(parvo_pos_I5_file, 'wb') as f:\n",
    "    np.array([nparvo_I5], dtype = 'u4').tofile(f)\n",
    "    np.array([ecc0], dtype = 'f8').tofile(f)\n",
    "    parvo_pos_I5_uniform.tofile(f)\n",
    "    RG_OnOff_I5.astype('u4').tofile(f)\n",
    "\n",
    "parvo_pos_C6_file = 'parvo_pos_C6-'+theme+'.bin'\n",
    "with open(parvo_pos_C6_file, 'wb') as f:\n",
    "    np.array([nparvo_C6], dtype = 'u4').tofile(f)\n",
    "    np.array([ecc0], dtype = 'f8').tofile(f)\n",
    "    parvo_pos_C6_uniform.tofile(f)\n",
    "    RG_OnOff_C6.astype('u4').tofile(f)"
   ]
  },
  {
   "cell_type": "code",
   "execution_count": null,
   "metadata": {},
   "outputs": [],
   "source": [
    "\"\"\"\n",
    "parvo_pos_I5_file = 'parvo_pos_I5.bin'\n",
    "with open(parvo_pos_I5_file, 'wb') as f:\n",
    "    np.array([nparvo_I5], dtype = 'u4').tofile(f)\n",
    "    RG_OnOff_I5.astype('int32').tofile(f)\n",
    "    parvo_pos_I5.astype(prec).tofile(f)\n",
    "    \n",
    "parvo_pos_C6_file = 'parvo_pos_C6.bin'\n",
    "with open(parvo_pos_C6_file, 'wb') as f:\n",
    "    np.array([nparvo_C6], dtype = 'u4').tofile(f)\n",
    "    RG_OnOff_C6.astype('int32').tofile(f)\n",
    "    parvo_pos_C6.astype(prec).tofile(f)\n",
    "\"\"\" \n",
    "prec = 'float32'\n",
    "LR_merged_file = 'parvo_float-'+theme+'.bin'\n",
    "with open(LR_merged_file, 'wb') as f:\n",
    "    # Ipsi first\n",
    "    np.array([nparvo_I5], dtype = 'u4').tofile(f)\n",
    "    np.array([nparvo_C6], dtype = 'u4').tofile(f)\n",
    "    np.array([ecc0], dtype = prec).tofile(f)\n",
    "    # cart\n",
    "    np.array([0, ecc0, -ecc0, 2*ecc0], dtype = prec).tofile(f)\n",
    "    merged = np.hstack((parvo_pos_I5_cart, parvo_pos_C6_cart))\n",
    "    assert(merged.shape[0] == 2)\n",
    "    assert(merged.shape[1] == nparvo_I5 + nparvo_C6)\n",
    "    merged.astype(prec).tofile(f)\n",
    "    # type\n",
    "    np.hstack((RG_OnOff_I5, RG_OnOff_C6)).astype('u4').tofile(f)\n",
    "    # polar\n",
    "    merged = np.hstack((parvo_pos_I5, parvo_pos_C6))\n",
    "    assert(merged.shape[0] == 2)\n",
    "    assert(merged.shape[1] == nparvo_I5 + nparvo_C6)\n",
    "    merged.astype(prec).tofile(f)\n",
    "    \n",
    "print(f'#ipsi = {nparvo_I5}, #contra = {nparvo_C6}')\n",
    "print(f\"{min(parvo_pos_I5[1,:])}, {min(parvo_pos_C6[1,:])}\")\n",
    "print(f\"{max(parvo_pos_I5[1,:])}, {max(parvo_pos_C6[1,:])}\")"
   ]
  },
  {
   "cell_type": "code",
   "execution_count": null,
   "metadata": {},
   "outputs": [],
   "source": [
    "# reorder old LGN_surfaceID.bin, one-time usage\n",
    "nLGN = nparvo_I5 + nparvo_C6\n",
    "with open('LGN_surfaceID.bin', 'rb') as f:\n",
    "    max_id = np.fromfile(f, 'u4', 2)\n",
    "    LGN_surfaceID = np.fromfile(f, 'i4', 2*nLGN).reshape(2,nLGN)\n",
    "print(max_id)\n",
    "LGN_id_I5 = LGN_surfaceID[:, :nparvo_I5]\n",
    "LGN_id_C6 = LGN_surfaceID[:, nparvo_I5:]\n",
    "LGN_newID = np.zeros((2,nLGN), dtype = 'i4')\n",
    "LGN_newID[:, :nparvo_I5] = reorder(LGN_id_I5, RG_OnOff_I5, 4)\n",
    "LGN_newID[:, nparvo_I5:] = reorder(LGN_id_C6, RG_OnOff_C6, 4)\n",
    "\n",
    "fig = plt.figure('LGN_ID', dpi = 1000)\n",
    "ax = fig.add_subplot(111)\n",
    "ax.plot(LGN_newID[0,:],LGN_newID[1,:],',r', ms = 0.1)\n",
    "ax.set_aspect('equal')\n",
    "with open('LGN_surfaceID.bin', 'wb') as f:\n",
    "    max_id.astype('u4').tofile(f)\n",
    "    LGN_newID.tofile(f)"
   ]
  },
  {
   "cell_type": "code",
   "execution_count": null,
   "metadata": {},
   "outputs": [],
   "source": [
    "def area(raxn, rden, d):\n",
    "    area = np.zeros(d.size)\n",
    "    minr = max(raxn,rden) - min(raxn,rden)\n",
    "    maxr = max(raxn,rden) + min(raxn,rden)\n",
    "    area[d <= minr] = np.power(min(raxn,rden),2)*np.pi\n",
    "    mid_pick = np.logical_and(minr < d, d < maxr)\n",
    "    d_mid = d[mid_pick]\n",
    "    cos_theta_axn = (raxn*raxn + d_mid*d_mid - rden*rden)/(2*raxn*d_mid)\n",
    "    cos_theta_den = (rden*rden + d_mid*d_mid - raxn*raxn)/(2*rden*d_mid)\n",
    "    seg_axn = np.arccos(cos_theta_axn)*raxn*raxn\n",
    "    seg_den = np.arccos(cos_theta_den)*rden*rden\n",
    "\n",
    "    chord_axn = np.sqrt(raxn*raxn - np.power(cos_theta_axn*raxn,2)) * raxn * cos_theta_axn\n",
    "    chord_den = np.sqrt(rden*rden - np.power(cos_theta_den*rden,2)) * rden * cos_theta_den\n",
    "    area[mid_pick] = seg_axn+seg_den-chord_axn-chord_den\n",
    "    assert(np.sum(area<0) == 0)\n",
    "    return area\n",
    "\n",
    "def base(raxn, rden, d):\n",
    "    #subr = d-raxn\n",
    "    #subr[subr<0] = 0\n",
    "    #supr = d+raxn\n",
    "    #supr[supr>rden] = rden\n",
    "    #base = np.pi*(np.power(supr,2) - np.power(subr,2))\n",
    "    base = np.pi*(np.power(raxn,2))\n",
    "    return base"
   ]
  },
  {
   "cell_type": "code",
   "execution_count": null,
   "metadata": {},
   "outputs": [],
   "source": [
    "raxn = 100 #um\n",
    "rden = 100\n",
    "nd = 100\n",
    "dd = (raxn+rden)/nd\n",
    "dee = np.linspace(0,raxn+rden-dd,nd-1)\n",
    "\n",
    "fig = plt.figure('prob')\n",
    "ax = fig.add_subplot(111)\n",
    "ratio = 0.095\n",
    "ax.plot(dee,  area(raxn,rden,dee)/base(raxn,rden,dee)*ratio)\n",
    "x = np.array([12.5, 37.5, 75, 150])\n",
    "y = np.array([8.8, 7.0, 5.0, 1.3])/100\n",
    "ax.plot(x,y)\n",
    "ax.set_xlim(x[0],x[-1])"
   ]
  },
  {
   "cell_type": "code",
   "execution_count": null,
   "metadata": {},
   "outputs": [],
   "source": [
    "raxn = 100\n",
    "rden = 80\n",
    "nd = 100\n",
    "dd = (raxn+rden)/nd\n",
    "dii = np.linspace(0, raxn+rden-dd,nd-1)\n",
    "fig = plt.figure('prob')\n",
    "ax = fig.add_subplot(211)\n",
    "y = area(raxn,rden,dii)/base(raxn,rden,dii)\n",
    "baseline = -0.1\n",
    "ratio = 1\n",
    "ax.plot(dii,y*ratio+baseline)\n",
    "x = [12.5, 37.5, 75]\n",
    "y = [0.72, 0.50, 0.55]\n",
    "yr = [0.51, 0.33, 0.27]\n",
    "ax.plot(x,y)\n",
    "ax.plot(x,yr)\n",
    "ax.set_xlim(x[0],x[-1])"
   ]
  },
  {
   "cell_type": "code",
   "execution_count": null,
   "metadata": {},
   "outputs": [],
   "source": [
    "#Connelly-Van_Essen-1984 \n",
    "Ap = 8.37\n",
    "Bp = 1.28\n",
    "Cp = -1.96\n",
    "parvo_den = lambda E: Ap*(E+Bp)**Cp*10000 # cells/deg^2\n",
    "Am = 3.52\n",
    "Bm = 3.1\n",
    "Cm = -1.56\n",
    "magno_den = lambda E: Am*(E+Bm)**Cm*1000# cells/deg^2\n",
    "deg = 5\n",
    "#consistent Maplpeli et al 1996\n",
    "parvo_den_alt = lambda E: 1011688*(E+2.9144)**(-2.6798)\n",
    "magno_den_alt = lambda E: 2620.2*((E-1.8322)**2+5.5638)**(-0.8012)\n",
    "fig = plt.figure('lgn cell areal mf', dpi=150)\n",
    "ax = fig.add_subplot(221)\n",
    "ecc = np.arange(0,90)\n",
    "ax.plot(ecc, magno_den(ecc))\n",
    "ax.plot(ecc, magno_den_alt(ecc),':')\n",
    "ax.set_title(f'{magno_den(deg):.1f}, {magno_den_alt(deg):.1f}')\n",
    "ax.set_ylabel('magno den')\n",
    "ax.set_yscale('log')\n",
    "ax = fig.add_subplot(222)\n",
    "ax.plot(ecc, parvo_den(ecc))\n",
    "ax.plot(ecc, parvo_den_alt(ecc),':')\n",
    "ax.set_yscale('log')\n",
    "ax.set_title(f'{parvo_den(deg):.1f}, {parvo_den_alt(deg):.1f}')\n",
    "ax.set_ylabel('parvo den') \n",
    "est_4Cbeta_over_4A = 0.6\n",
    "#blasdel and lund 1983,\n",
    "magno_spread = 0.5 # mm (mean) \n",
    "parvo_spread = 0.1 # mm (upper limit)\n",
    "surface_den_L4Calpha = 17300\n",
    "magno_spread_reach_max = surface_den_L4Calpha*magno_spread**2\n",
    "parvo_spread_reach_max = surface_den_L4Cbeta*parvo_spread**2\n",
    "ax = fig.add_subplot(223)\n",
    "ax.plot(ecc, magno_den(ecc)/darea(ecc,0)*magno_spread**2)\n",
    "ax.plot(ecc, magno_den_alt(ecc)/darea(ecc,0)*magno_spread**2, ':')\n",
    "ax.set_ylabel('magno per 4Calpha')\n",
    "ax.set_title(f'{magno_den(deg)/darea(deg,0)*magno_spread**2:.1f}, {magno_den_alt(deg)/darea(deg,0)*magno_spread**2:.1f}')\n",
    "ax = fig.add_subplot(224)\n",
    "ax.plot(ecc, parvo_den(ecc)/darea(ecc,0)*parvo_spread**2)\n",
    "ax.plot(ecc, parvo_den_alt(ecc)/darea(ecc,0)*parvo_spread**2, ':')\n",
    "ax.set_ylabel('parvo per 4A and/or 4Cbeta')\n",
    "ax.set_title(f'{parvo_den(deg)/darea(deg,0)*parvo_spread**2:.1f}, {parvo_den_alt(deg)/darea(deg,0)*parvo_spread**2:.1f}')\n",
    "plt.tight_layout()"
   ]
  },
  {
   "cell_type": "code",
   "execution_count": null,
   "metadata": {},
   "outputs": [],
   "source": [
    "fig.savefig('upper_limit_of_nLGN_per_V1.png')"
   ]
  },
  {
   "cell_type": "code",
   "execution_count": null,
   "metadata": {},
   "outputs": [],
   "source": [
    "deg = 5\n",
    "p_den = lambda E: 110000*(E+1.28)**(-1.96) #cell/deg^2\n",
    "m_den = lambda E: 4600*(E+3.12)**(-1.56) #cell/deg^2\n",
    "print(p_den(deg),m_den(deg))\n",
    "areal_cmf = lambda E: 12.2**2*(E+0.94)**(-2.0) # mm^2/deg^2\n",
    "print(areal_cmf(deg))\n",
    "parvo_per_p = p_den(deg)/areal_cmf(deg)\n",
    "print(f'{parvo_per_p:.1f} P cells/mm^2 to 4Cbeta + 4A')\n",
    "magno_per_m = m_den(deg)/areal_cmf(deg)\n",
    "print(f'{magno_per_m:.1f} M cells/mm^2 to 4Calpha')"
   ]
  },
  {
   "cell_type": "code",
   "execution_count": null,
   "metadata": {},
   "outputs": [],
   "source": [
    "fig = plt.figure('Schein')\n",
    "ax = fig.add_subplot(111)\n",
    "ax.plot(ecc, p_den(ecc)/areal_cmf(ecc))\n",
    "ax.plot(ecc, m_den(ecc)/areal_cmf(ecc),':')"
   ]
  }
 ],
 "metadata": {
  "kernelspec": {
   "display_name": "Python 3 (ipykernel)",
   "language": "python",
   "name": "python3"
  },
  "language_info": {
   "codemirror_mode": {
    "name": "ipython",
    "version": 3
   },
   "file_extension": ".py",
   "mimetype": "text/x-python",
   "name": "python",
   "nbconvert_exporter": "python",
   "pygments_lexer": "ipython3",
   "version": "3.9.7"
  }
 },
 "nbformat": 4,
 "nbformat_minor": 4
}
